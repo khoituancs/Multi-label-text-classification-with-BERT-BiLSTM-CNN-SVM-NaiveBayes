{
  "cells": [
    {
      "cell_type": "code",
      "execution_count": 9,
      "metadata": {
        "colab": {
          "base_uri": "https://localhost:8080/"
        },
        "id": "be60-csLA_DR",
        "outputId": "e2fe9126-9cde-48c0-f262-76d47ff8eb5e"
      },
      "outputs": [
        {
          "name": "stdout",
          "output_type": "stream",
          "text": [
            "/usr/local/lib/python3.10/dist-packages/gdown/cli.py:121: FutureWarning: Option `--id` was deprecated in version 4.3.1 and will be removed in 5.0. You don't need to pass it anymore to use a file ID.\n",
            "  warnings.warn(\n",
            "Downloading...\n",
            "From: https://drive.google.com/uc?id=1f7WAwkuTFgLzCCTs2HZv3AmtBkET4l1M\n",
            "To: /content/sem_eval_2018.zip\n",
            "100% 662k/662k [00:00<00:00, 133MB/s]\n"
          ]
        }
      ],
      "source": [
        "# https://drive.google.com/file/d/1f7WAwkuTFgLzCCTs2HZv3AmtBkET4l1M/view?usp=share_link\n",
        "!gdown --id 1f7WAwkuTFgLzCCTs2HZv3AmtBkET4l1M"
      ]
    },
    {
      "cell_type": "code",
      "execution_count": null,
      "metadata": {
        "colab": {
          "base_uri": "https://localhost:8080/"
        },
        "id": "x8_N-YdEBB5S",
        "outputId": "7f110440-b252-466e-d72b-00ad732baad7"
      },
      "outputs": [
        {
          "name": "stdout",
          "output_type": "stream",
          "text": [
            "Mounted at /content/drive\n"
          ]
        }
      ],
      "source": [
        "from google.colab import drive\n",
        "drive.mount('/content/drive')"
      ]
    },
    {
      "cell_type": "code",
      "execution_count": 8,
      "metadata": {
        "colab": {
          "base_uri": "https://localhost:8080/"
        },
        "id": "zY8gR2JYBAcG",
        "outputId": "90f539ab-6048-46e4-dc6b-05735c8c3765"
      },
      "outputs": [
        {
          "name": "stdout",
          "output_type": "stream",
          "text": [
            "Archive:  ./sem_eval_2018.zip\n",
            "replace sem_eval_2018/val.csv? [y]es, [n]o, [A]ll, [N]one, [r]ename: "
          ]
        }
      ],
      "source": [
        "!unzip './sem_eval_2018.zip'"
      ]
    },
    {
      "cell_type": "markdown",
      "metadata": {
        "id": "TSsat2oUaitv"
      },
      "source": [
        "## **1. Import the necessary libraries**"
      ]
    },
    {
      "cell_type": "code",
      "execution_count": 10,
      "metadata": {
        "colab": {
          "base_uri": "https://localhost:8080/"
        },
        "id": "FD3qFBa8RVS8",
        "outputId": "24cbab7c-90a9-4f9b-ecbd-761d4df6a07d"
      },
      "outputs": [
        {
          "name": "stdout",
          "output_type": "stream",
          "text": [
            "Requirement already satisfied: unidecode in /usr/local/lib/python3.10/dist-packages (1.3.7)\n",
            "Requirement already satisfied: tensorflow_addons in /usr/local/lib/python3.10/dist-packages (0.23.0)\n",
            "Requirement already satisfied: packaging in /usr/local/lib/python3.10/dist-packages (from tensorflow_addons) (23.2)\n",
            "Requirement already satisfied: typeguard<3.0.0,>=2.7 in /usr/local/lib/python3.10/dist-packages (from tensorflow_addons) (2.13.3)\n"
          ]
        }
      ],
      "source": [
        "!pip install unidecode tensorflow_addons"
      ]
    },
    {
      "cell_type": "code",
      "execution_count": 11,
      "metadata": {
        "colab": {
          "base_uri": "https://localhost:8080/"
        },
        "id": "x753CoSmVZ1G",
        "outputId": "a40ac7ca-7a3c-410f-c9bd-242e7687b7d0"
      },
      "outputs": [
        {
          "name": "stderr",
          "output_type": "stream",
          "text": [
            "[nltk_data] Downloading package stopwords to /root/nltk_data...\n",
            "[nltk_data]   Package stopwords is already up-to-date!\n"
          ]
        }
      ],
      "source": [
        "import os\n",
        "import numpy as np\n",
        "import pandas as pd\n",
        "import matplotlib.pyplot as plt\n",
        "import tensorflow as tf\n",
        "import re\n",
        "import nltk\n",
        "import unidecode\n",
        "import tensorflow_addons as tfa\n",
        "\n",
        "nltk.download('stopwords')\n",
        "from nltk.corpus import stopwords\n",
        "from nltk.stem.porter import PorterStemmer\n",
        "\n",
        "RANDOM_SEED = 1\n",
        "tf.random.set_seed(RANDOM_SEED)"
      ]
    },
    {
      "cell_type": "markdown",
      "metadata": {
        "id": "YKb5snF9aptz"
      },
      "source": [
        "## **2. Data preprocessing**\n"
      ]
    },
    {
      "cell_type": "code",
      "execution_count": 12,
      "metadata": {
        "id": "sfZ3eP0kPsi7"
      },
      "outputs": [],
      "source": [
        "english_stop_words = stopwords.words('english') # Get the list of stopwords from the nltk library\n",
        "stemmer = PorterStemmer() # Declare stemmer object (used to stem in normalize text function)\n",
        "\n",
        "# Build the text normalization function\n",
        "def text_normalize(text):\n",
        "    text = text.lower() # Convert letters to lowercase\n",
        "    text = unidecode.unidecode(text) # Encoded to ASCII\n",
        "    text = text.strip() # Remove special characters at the beginning and end of the string\n",
        "    text = re.sub(r'[^\\w\\s]', '', text) # Remove punctuation\n",
        "    text = ' '.join([word for word in text.split(' ') if word not in english_stop_words]) # Remove stopwords\n",
        "    text = ' '.join([stemmer.stem(word) for word in text.split(' ')]) # Stemming\n",
        "\n",
        "    return text"
      ]
    },
    {
      "cell_type": "code",
      "execution_count": 13,
      "metadata": {
        "id": "YjSMjEex0gOi"
      },
      "outputs": [],
      "source": [
        "BATCH_SIZE = 128\n",
        "MAX_SEQ_LEN = 128\n",
        "MAX_FEATURES = 5000\n",
        "EMBEDDING_DIMS = 64\n",
        "\n",
        "ROOT_FOLDER_PATH = './data'\n",
        "\n",
        "train_filepath = os.path.join(ROOT_FOLDER_PATH, 'train.csv')\n",
        "val_filepath = os.path.join(ROOT_FOLDER_PATH, 'val.csv')\n",
        "test_filepath = os.path.join(ROOT_FOLDER_PATH, 'test.csv')\n",
        "\n",
        "train_df = pd.read_csv(train_filepath,\n",
        "                index_col=0)\n",
        "val_df = pd.read_csv(val_filepath,\n",
        "                index_col=0)\n",
        "test_df = pd.read_csv(test_filepath,\n",
        "                index_col=0)\n",
        "\n",
        "train_df['Tweet'] = train_df['Tweet'].apply(lambda p: text_normalize(p)).astype(str)\n",
        "val_df['Tweet'] = val_df['Tweet'].apply(lambda p: text_normalize(p)).astype(str)\n",
        "test_df['Tweet'] = test_df['Tweet'].apply(lambda p: text_normalize(p)).astype(str)\n",
        "\n",
        "class_lst = np.array(train_df.columns[2:])\n",
        "n_classes = len(class_lst)\n",
        "\n",
        "X_train, y_train = train_df['Tweet'].to_numpy(), train_df[class_lst].astype('int').to_numpy()\n",
        "X_val, y_val = val_df['Tweet'].to_numpy(), val_df[class_lst].astype('int').to_numpy()\n",
        "X_test, y_test = test_df['Tweet'].to_numpy(), test_df[class_lst].astype('int').to_numpy()"
      ]
    },
    {
      "cell_type": "code",
      "execution_count": 14,
      "metadata": {
        "colab": {
          "base_uri": "https://localhost:8080/",
          "height": 930
        },
        "id": "q4jMaisRVoTQ",
        "outputId": "24a22d91-62b2-4b2b-d27a-26da07b746ab"
      },
      "outputs": [
        {
          "data": {
            "text/html": [
              "\n",
              "  <div id=\"df-1bb58d15-6b78-4529-8097-d5bdd09debc7\" class=\"colab-df-container\">\n",
              "    <div>\n",
              "<style scoped>\n",
              "    .dataframe tbody tr th:only-of-type {\n",
              "        vertical-align: middle;\n",
              "    }\n",
              "\n",
              "    .dataframe tbody tr th {\n",
              "        vertical-align: top;\n",
              "    }\n",
              "\n",
              "    .dataframe thead th {\n",
              "        text-align: right;\n",
              "    }\n",
              "</style>\n",
              "<table border=\"1\" class=\"dataframe\">\n",
              "  <thead>\n",
              "    <tr style=\"text-align: right;\">\n",
              "      <th></th>\n",
              "      <th>ID</th>\n",
              "      <th>Tweet</th>\n",
              "      <th>anger</th>\n",
              "      <th>anticipation</th>\n",
              "      <th>disgust</th>\n",
              "      <th>fear</th>\n",
              "      <th>joy</th>\n",
              "      <th>love</th>\n",
              "      <th>optimism</th>\n",
              "      <th>pessimism</th>\n",
              "      <th>sadness</th>\n",
              "      <th>surprise</th>\n",
              "      <th>trust</th>\n",
              "    </tr>\n",
              "  </thead>\n",
              "  <tbody>\n",
              "    <tr>\n",
              "      <th>0</th>\n",
              "      <td>2017-En-21441</td>\n",
              "      <td>worri payment problem may never  joyc meyer  m...</td>\n",
              "      <td>False</td>\n",
              "      <td>True</td>\n",
              "      <td>False</td>\n",
              "      <td>False</td>\n",
              "      <td>False</td>\n",
              "      <td>False</td>\n",
              "      <td>True</td>\n",
              "      <td>False</td>\n",
              "      <td>False</td>\n",
              "      <td>False</td>\n",
              "      <td>True</td>\n",
              "    </tr>\n",
              "    <tr>\n",
              "      <th>1</th>\n",
              "      <td>2017-En-31535</td>\n",
              "      <td>whatev decid make sure make happi</td>\n",
              "      <td>False</td>\n",
              "      <td>False</td>\n",
              "      <td>False</td>\n",
              "      <td>False</td>\n",
              "      <td>True</td>\n",
              "      <td>True</td>\n",
              "      <td>True</td>\n",
              "      <td>False</td>\n",
              "      <td>False</td>\n",
              "      <td>False</td>\n",
              "      <td>False</td>\n",
              "    </tr>\n",
              "    <tr>\n",
              "      <th>2</th>\n",
              "      <td>2017-En-21068</td>\n",
              "      <td>max_kellerman  also help major nfl coach inept...</td>\n",
              "      <td>True</td>\n",
              "      <td>False</td>\n",
              "      <td>True</td>\n",
              "      <td>False</td>\n",
              "      <td>True</td>\n",
              "      <td>False</td>\n",
              "      <td>True</td>\n",
              "      <td>False</td>\n",
              "      <td>False</td>\n",
              "      <td>False</td>\n",
              "      <td>False</td>\n",
              "    </tr>\n",
              "    <tr>\n",
              "      <th>3</th>\n",
              "      <td>2017-En-31436</td>\n",
              "      <td>accept challeng liter even feel exhilar victor...</td>\n",
              "      <td>False</td>\n",
              "      <td>False</td>\n",
              "      <td>False</td>\n",
              "      <td>False</td>\n",
              "      <td>True</td>\n",
              "      <td>False</td>\n",
              "      <td>True</td>\n",
              "      <td>False</td>\n",
              "      <td>False</td>\n",
              "      <td>False</td>\n",
              "      <td>False</td>\n",
              "    </tr>\n",
              "    <tr>\n",
              "      <th>4</th>\n",
              "      <td>2017-En-22195</td>\n",
              "      <td>roommat okay cant spell autocorrect terribl fi...</td>\n",
              "      <td>True</td>\n",
              "      <td>False</td>\n",
              "      <td>True</td>\n",
              "      <td>False</td>\n",
              "      <td>False</td>\n",
              "      <td>False</td>\n",
              "      <td>False</td>\n",
              "      <td>False</td>\n",
              "      <td>False</td>\n",
              "      <td>False</td>\n",
              "      <td>False</td>\n",
              "    </tr>\n",
              "    <tr>\n",
              "      <th>...</th>\n",
              "      <td>...</td>\n",
              "      <td>...</td>\n",
              "      <td>...</td>\n",
              "      <td>...</td>\n",
              "      <td>...</td>\n",
              "      <td>...</td>\n",
              "      <td>...</td>\n",
              "      <td>...</td>\n",
              "      <td>...</td>\n",
              "      <td>...</td>\n",
              "      <td>...</td>\n",
              "      <td>...</td>\n",
              "      <td>...</td>\n",
              "    </tr>\n",
              "    <tr>\n",
              "      <th>833</th>\n",
              "      <td>2017-En-21383</td>\n",
              "      <td>nicky57672 hi work toward highlight concern ke...</td>\n",
              "      <td>False</td>\n",
              "      <td>False</td>\n",
              "      <td>False</td>\n",
              "      <td>False</td>\n",
              "      <td>False</td>\n",
              "      <td>False</td>\n",
              "      <td>False</td>\n",
              "      <td>False</td>\n",
              "      <td>False</td>\n",
              "      <td>False</td>\n",
              "      <td>False</td>\n",
              "    </tr>\n",
              "    <tr>\n",
              "      <th>834</th>\n",
              "      <td>2017-En-41441</td>\n",
              "      <td>andreamitchel said berniesand play hrc campaig...</td>\n",
              "      <td>False</td>\n",
              "      <td>True</td>\n",
              "      <td>False</td>\n",
              "      <td>False</td>\n",
              "      <td>False</td>\n",
              "      <td>False</td>\n",
              "      <td>False</td>\n",
              "      <td>False</td>\n",
              "      <td>False</td>\n",
              "      <td>True</td>\n",
              "      <td>False</td>\n",
              "    </tr>\n",
              "    <tr>\n",
              "      <th>835</th>\n",
              "      <td>2017-En-10886</td>\n",
              "      <td>isthataspid dhodg fight guy dont insult lion l...</td>\n",
              "      <td>True</td>\n",
              "      <td>False</td>\n",
              "      <td>True</td>\n",
              "      <td>False</td>\n",
              "      <td>False</td>\n",
              "      <td>False</td>\n",
              "      <td>False</td>\n",
              "      <td>True</td>\n",
              "      <td>False</td>\n",
              "      <td>False</td>\n",
              "      <td>False</td>\n",
              "    </tr>\n",
              "    <tr>\n",
              "      <th>836</th>\n",
              "      <td>2017-En-40662</td>\n",
              "      <td>wonder guy broke peni sex seriou</td>\n",
              "      <td>False</td>\n",
              "      <td>False</td>\n",
              "      <td>False</td>\n",
              "      <td>False</td>\n",
              "      <td>False</td>\n",
              "      <td>False</td>\n",
              "      <td>False</td>\n",
              "      <td>False</td>\n",
              "      <td>False</td>\n",
              "      <td>True</td>\n",
              "      <td>False</td>\n",
              "    </tr>\n",
              "    <tr>\n",
              "      <th>837</th>\n",
              "      <td>2017-En-31003</td>\n",
              "      <td>im highli anim even though im decompos</td>\n",
              "      <td>False</td>\n",
              "      <td>False</td>\n",
              "      <td>False</td>\n",
              "      <td>False</td>\n",
              "      <td>False</td>\n",
              "      <td>False</td>\n",
              "      <td>False</td>\n",
              "      <td>True</td>\n",
              "      <td>False</td>\n",
              "      <td>False</td>\n",
              "      <td>False</td>\n",
              "    </tr>\n",
              "  </tbody>\n",
              "</table>\n",
              "<p>6838 rows × 13 columns</p>\n",
              "</div>\n",
              "    <div class=\"colab-df-buttons\">\n",
              "\n",
              "  <div class=\"colab-df-container\">\n",
              "    <button class=\"colab-df-convert\" onclick=\"convertToInteractive('df-1bb58d15-6b78-4529-8097-d5bdd09debc7')\"\n",
              "            title=\"Convert this dataframe to an interactive table.\"\n",
              "            style=\"display:none;\">\n",
              "\n",
              "  <svg xmlns=\"http://www.w3.org/2000/svg\" height=\"24px\" viewBox=\"0 -960 960 960\">\n",
              "    <path d=\"M120-120v-720h720v720H120Zm60-500h600v-160H180v160Zm220 220h160v-160H400v160Zm0 220h160v-160H400v160ZM180-400h160v-160H180v160Zm440 0h160v-160H620v160ZM180-180h160v-160H180v160Zm440 0h160v-160H620v160Z\"/>\n",
              "  </svg>\n",
              "    </button>\n",
              "\n",
              "  <style>\n",
              "    .colab-df-container {\n",
              "      display:flex;\n",
              "      gap: 12px;\n",
              "    }\n",
              "\n",
              "    .colab-df-convert {\n",
              "      background-color: #E8F0FE;\n",
              "      border: none;\n",
              "      border-radius: 50%;\n",
              "      cursor: pointer;\n",
              "      display: none;\n",
              "      fill: #1967D2;\n",
              "      height: 32px;\n",
              "      padding: 0 0 0 0;\n",
              "      width: 32px;\n",
              "    }\n",
              "\n",
              "    .colab-df-convert:hover {\n",
              "      background-color: #E2EBFA;\n",
              "      box-shadow: 0px 1px 2px rgba(60, 64, 67, 0.3), 0px 1px 3px 1px rgba(60, 64, 67, 0.15);\n",
              "      fill: #174EA6;\n",
              "    }\n",
              "\n",
              "    .colab-df-buttons div {\n",
              "      margin-bottom: 4px;\n",
              "    }\n",
              "\n",
              "    [theme=dark] .colab-df-convert {\n",
              "      background-color: #3B4455;\n",
              "      fill: #D2E3FC;\n",
              "    }\n",
              "\n",
              "    [theme=dark] .colab-df-convert:hover {\n",
              "      background-color: #434B5C;\n",
              "      box-shadow: 0px 1px 3px 1px rgba(0, 0, 0, 0.15);\n",
              "      filter: drop-shadow(0px 1px 2px rgba(0, 0, 0, 0.3));\n",
              "      fill: #FFFFFF;\n",
              "    }\n",
              "  </style>\n",
              "\n",
              "    <script>\n",
              "      const buttonEl =\n",
              "        document.querySelector('#df-1bb58d15-6b78-4529-8097-d5bdd09debc7 button.colab-df-convert');\n",
              "      buttonEl.style.display =\n",
              "        google.colab.kernel.accessAllowed ? 'block' : 'none';\n",
              "\n",
              "      async function convertToInteractive(key) {\n",
              "        const element = document.querySelector('#df-1bb58d15-6b78-4529-8097-d5bdd09debc7');\n",
              "        const dataTable =\n",
              "          await google.colab.kernel.invokeFunction('convertToInteractive',\n",
              "                                                    [key], {});\n",
              "        if (!dataTable) return;\n",
              "\n",
              "        const docLinkHtml = 'Like what you see? Visit the ' +\n",
              "          '<a target=\"_blank\" href=https://colab.research.google.com/notebooks/data_table.ipynb>data table notebook</a>'\n",
              "          + ' to learn more about interactive tables.';\n",
              "        element.innerHTML = '';\n",
              "        dataTable['output_type'] = 'display_data';\n",
              "        await google.colab.output.renderOutput(dataTable, element);\n",
              "        const docLink = document.createElement('div');\n",
              "        docLink.innerHTML = docLinkHtml;\n",
              "        element.appendChild(docLink);\n",
              "      }\n",
              "    </script>\n",
              "  </div>\n",
              "\n",
              "\n",
              "<div id=\"df-97498acc-9362-4576-8975-11ad045f2ffe\">\n",
              "  <button class=\"colab-df-quickchart\" onclick=\"quickchart('df-97498acc-9362-4576-8975-11ad045f2ffe')\"\n",
              "            title=\"Suggest charts\"\n",
              "            style=\"display:none;\">\n",
              "\n",
              "<svg xmlns=\"http://www.w3.org/2000/svg\" height=\"24px\"viewBox=\"0 0 24 24\"\n",
              "     width=\"24px\">\n",
              "    <g>\n",
              "        <path d=\"M19 3H5c-1.1 0-2 .9-2 2v14c0 1.1.9 2 2 2h14c1.1 0 2-.9 2-2V5c0-1.1-.9-2-2-2zM9 17H7v-7h2v7zm4 0h-2V7h2v10zm4 0h-2v-4h2v4z\"/>\n",
              "    </g>\n",
              "</svg>\n",
              "  </button>\n",
              "\n",
              "<style>\n",
              "  .colab-df-quickchart {\n",
              "      --bg-color: #E8F0FE;\n",
              "      --fill-color: #1967D2;\n",
              "      --hover-bg-color: #E2EBFA;\n",
              "      --hover-fill-color: #174EA6;\n",
              "      --disabled-fill-color: #AAA;\n",
              "      --disabled-bg-color: #DDD;\n",
              "  }\n",
              "\n",
              "  [theme=dark] .colab-df-quickchart {\n",
              "      --bg-color: #3B4455;\n",
              "      --fill-color: #D2E3FC;\n",
              "      --hover-bg-color: #434B5C;\n",
              "      --hover-fill-color: #FFFFFF;\n",
              "      --disabled-bg-color: #3B4455;\n",
              "      --disabled-fill-color: #666;\n",
              "  }\n",
              "\n",
              "  .colab-df-quickchart {\n",
              "    background-color: var(--bg-color);\n",
              "    border: none;\n",
              "    border-radius: 50%;\n",
              "    cursor: pointer;\n",
              "    display: none;\n",
              "    fill: var(--fill-color);\n",
              "    height: 32px;\n",
              "    padding: 0;\n",
              "    width: 32px;\n",
              "  }\n",
              "\n",
              "  .colab-df-quickchart:hover {\n",
              "    background-color: var(--hover-bg-color);\n",
              "    box-shadow: 0 1px 2px rgba(60, 64, 67, 0.3), 0 1px 3px 1px rgba(60, 64, 67, 0.15);\n",
              "    fill: var(--button-hover-fill-color);\n",
              "  }\n",
              "\n",
              "  .colab-df-quickchart-complete:disabled,\n",
              "  .colab-df-quickchart-complete:disabled:hover {\n",
              "    background-color: var(--disabled-bg-color);\n",
              "    fill: var(--disabled-fill-color);\n",
              "    box-shadow: none;\n",
              "  }\n",
              "\n",
              "  .colab-df-spinner {\n",
              "    border: 2px solid var(--fill-color);\n",
              "    border-color: transparent;\n",
              "    border-bottom-color: var(--fill-color);\n",
              "    animation:\n",
              "      spin 1s steps(1) infinite;\n",
              "  }\n",
              "\n",
              "  @keyframes spin {\n",
              "    0% {\n",
              "      border-color: transparent;\n",
              "      border-bottom-color: var(--fill-color);\n",
              "      border-left-color: var(--fill-color);\n",
              "    }\n",
              "    20% {\n",
              "      border-color: transparent;\n",
              "      border-left-color: var(--fill-color);\n",
              "      border-top-color: var(--fill-color);\n",
              "    }\n",
              "    30% {\n",
              "      border-color: transparent;\n",
              "      border-left-color: var(--fill-color);\n",
              "      border-top-color: var(--fill-color);\n",
              "      border-right-color: var(--fill-color);\n",
              "    }\n",
              "    40% {\n",
              "      border-color: transparent;\n",
              "      border-right-color: var(--fill-color);\n",
              "      border-top-color: var(--fill-color);\n",
              "    }\n",
              "    60% {\n",
              "      border-color: transparent;\n",
              "      border-right-color: var(--fill-color);\n",
              "    }\n",
              "    80% {\n",
              "      border-color: transparent;\n",
              "      border-right-color: var(--fill-color);\n",
              "      border-bottom-color: var(--fill-color);\n",
              "    }\n",
              "    90% {\n",
              "      border-color: transparent;\n",
              "      border-bottom-color: var(--fill-color);\n",
              "    }\n",
              "  }\n",
              "</style>\n",
              "\n",
              "  <script>\n",
              "    async function quickchart(key) {\n",
              "      const quickchartButtonEl =\n",
              "        document.querySelector('#' + key + ' button');\n",
              "      quickchartButtonEl.disabled = true;  // To prevent multiple clicks.\n",
              "      quickchartButtonEl.classList.add('colab-df-spinner');\n",
              "      try {\n",
              "        const charts = await google.colab.kernel.invokeFunction(\n",
              "            'suggestCharts', [key], {});\n",
              "      } catch (error) {\n",
              "        console.error('Error during call to suggestCharts:', error);\n",
              "      }\n",
              "      quickchartButtonEl.classList.remove('colab-df-spinner');\n",
              "      quickchartButtonEl.classList.add('colab-df-quickchart-complete');\n",
              "    }\n",
              "    (() => {\n",
              "      let quickchartButtonEl =\n",
              "        document.querySelector('#df-97498acc-9362-4576-8975-11ad045f2ffe button');\n",
              "      quickchartButtonEl.style.display =\n",
              "        google.colab.kernel.accessAllowed ? 'block' : 'none';\n",
              "    })();\n",
              "  </script>\n",
              "</div>\n",
              "    </div>\n",
              "  </div>\n"
            ],
            "text/plain": [
              "                ID                                              Tweet  anger  \\\n",
              "0    2017-En-21441  worri payment problem may never  joyc meyer  m...  False   \n",
              "1    2017-En-31535                  whatev decid make sure make happi  False   \n",
              "2    2017-En-21068  max_kellerman  also help major nfl coach inept...   True   \n",
              "3    2017-En-31436  accept challeng liter even feel exhilar victor...  False   \n",
              "4    2017-En-22195  roommat okay cant spell autocorrect terribl fi...   True   \n",
              "..             ...                                                ...    ...   \n",
              "833  2017-En-21383  nicky57672 hi work toward highlight concern ke...  False   \n",
              "834  2017-En-41441  andreamitchel said berniesand play hrc campaig...  False   \n",
              "835  2017-En-10886  isthataspid dhodg fight guy dont insult lion l...   True   \n",
              "836  2017-En-40662                   wonder guy broke peni sex seriou  False   \n",
              "837  2017-En-31003             im highli anim even though im decompos  False   \n",
              "\n",
              "     anticipation  disgust   fear    joy   love  optimism  pessimism  sadness  \\\n",
              "0            True    False  False  False  False      True      False    False   \n",
              "1           False    False  False   True   True      True      False    False   \n",
              "2           False     True  False   True  False      True      False    False   \n",
              "3           False    False  False   True  False      True      False    False   \n",
              "4           False     True  False  False  False     False      False    False   \n",
              "..            ...      ...    ...    ...    ...       ...        ...      ...   \n",
              "833         False    False  False  False  False     False      False    False   \n",
              "834          True    False  False  False  False     False      False    False   \n",
              "835         False     True  False  False  False     False       True    False   \n",
              "836         False    False  False  False  False     False      False    False   \n",
              "837         False    False  False  False  False     False       True    False   \n",
              "\n",
              "     surprise  trust  \n",
              "0       False   True  \n",
              "1       False  False  \n",
              "2       False  False  \n",
              "3       False  False  \n",
              "4       False  False  \n",
              "..        ...    ...  \n",
              "833     False  False  \n",
              "834      True  False  \n",
              "835     False  False  \n",
              "836      True  False  \n",
              "837     False  False  \n",
              "\n",
              "[6838 rows x 13 columns]"
            ]
          },
          "execution_count": 14,
          "metadata": {},
          "output_type": "execute_result"
        }
      ],
      "source": [
        "train_df"
      ]
    },
    {
      "cell_type": "code",
      "execution_count": 15,
      "metadata": {
        "id": "5uFnFYkTWfTT"
      },
      "outputs": [],
      "source": [
        "train_ds = tf.data.Dataset.from_tensor_slices((X_train, y_train)).batch(BATCH_SIZE)\n",
        "val_ds = tf.data.Dataset.from_tensor_slices((X_val, y_val)).batch(BATCH_SIZE)\n",
        "test_ds = tf.data.Dataset.from_tensor_slices((X_test, y_test)).batch(BATCH_SIZE)"
      ]
    },
    {
      "cell_type": "code",
      "execution_count": 16,
      "metadata": {
        "colab": {
          "base_uri": "https://localhost:8080/"
        },
        "id": "KT-cAKTNohDl",
        "outputId": "67624bfc-92b9-4325-b44a-93a2a5857f6f"
      },
      "outputs": [
        {
          "name": "stdout",
          "output_type": "stream",
          "text": [
            "Tweet 0:  b'worri payment problem may never  joyc meyer  motiv leadership worri'\n",
            "Tweet 1:  b'whatev decid make sure make happi'\n",
            "Tweet 2:  b'max_kellerman  also help major nfl coach inept bill obrien play call wow  gopat'\n",
            "Tweet 3:  b'accept challeng liter even feel exhilar victori  georg patton'\n",
            "Tweet 4:  b'roommat okay cant spell autocorrect terribl firstworldprob'\n",
            "Tweet 5:  b'that cute atsu probabl shi photo cherri help uwu'\n",
            "Tweet 6:  b'think human sens recogn impend doom'\n",
            "Tweet 7:  b'rooney fuck untouch isnt fuck dread depay look decentishtonight'\n",
            "Tweet 8:  b'pretti depress u hit pan ur favourit highlight'\n",
            "Tweet 9:  b'bossupjae pussi weak heard stfu bitch  got threaten pregnant '\n"
          ]
        }
      ],
      "source": [
        "def inverse_label(class_lst, onehot_label):\n",
        "\n",
        "    return class_lst[onehot_label > 0]\n",
        "\n",
        "for text_batch, label_batch in train_ds.take(1):\n",
        "  for i in range(10):\n",
        "    print(f\"Tweet {i}: \", text_batch.numpy()[i])\n",
        "    #print(\"Label:\", inverse_label(class_lst, label_batch.numpy()[i]))"
      ]
    },
    {
      "cell_type": "code",
      "execution_count": 17,
      "metadata": {
        "id": "onM2jAEBte9v"
      },
      "outputs": [],
      "source": [
        "# Configure optimal parameters for reading data\n",
        "AUTOTUNE = tf.data.AUTOTUNE\n",
        "\n",
        "train_ds = train_ds.cache().prefetch(buffer_size=AUTOTUNE)\n",
        "val_ds = val_ds.cache().prefetch(buffer_size=AUTOTUNE)\n",
        "test_ds = test_ds.cache().prefetch(buffer_size=AUTOTUNE)"
      ]
    },
    {
      "cell_type": "markdown",
      "metadata": {
        "id": "iBYXRSW8at00"
      },
      "source": [
        "## **3. Build the model**"
      ]
    },
    {
      "cell_type": "code",
      "execution_count": 18,
      "metadata": {
        "id": "d6vAi-z5aw1w"
      },
      "outputs": [],
      "source": [
        "# Declare the vectorization text layer\n",
        "text_vectorization_layer = tf.keras.layers.TextVectorization(\n",
        "    max_tokens=MAX_FEATURES, # Vocabulary size\n",
        "    output_mode='int', # The token value is the index of the word in vocab\n",
        "    output_sequence_length=MAX_SEQ_LEN # Maximum number of tokens in 1 vector\n",
        ")\n",
        "\n",
        "train_text = train_ds.map(lambda text, labels: text) # Call `content` of all data samples in the training set\n",
        "text_vectorization_layer.adapt(train_text) # Build vectorization layer based on training data"
      ]
    },
    {
      "cell_type": "code",
      "execution_count": 19,
      "metadata": {
        "id": "2cF-4m92lJXu"
      },
      "outputs": [],
      "source": [
        "# Build the model initialization function\n",
        "def build_model(max_features, max_seq_len, embedding_dims, n_classes):\n",
        "    model = tf.keras.Sequential([\n",
        "        # Input layer (receives a string)\n",
        "        tf.keras.Input(shape=(1,), dtype='string', name='input_layer'),\n",
        "\n",
        "        # Text Vectorization Layer declared above\n",
        "        text_vectorization_layer,\n",
        "\n",
        "        # Embedding Layer (convert tokens into vectors)\n",
        "        tf.keras.layers.Embedding(input_dim=max_features+1,\n",
        "                                  output_dim=embedding_dims,\n",
        "                                  embeddings_initializer=tf.random_uniform_initializer(seed=RANDOM_SEED),\n",
        "                                  mask_zero=True,\n",
        "                                  name='embedding_layer'),\n",
        "\n",
        "        # Bi-LSTM Layer 1\n",
        "        tf.keras.layers.Bidirectional(tf.keras.layers.LSTM(64,\n",
        "                                    return_sequences=True,\n",
        "                                    kernel_initializer=tf.initializers.GlorotUniform(seed=RANDOM_SEED)),\n",
        "                                    name='bilstm_layer_1'),\n",
        "\n",
        "        # Bi-LSTM Layer 2\n",
        "        tf.keras.layers.Bidirectional(tf.keras.layers.LSTM(64,\n",
        "                                    return_sequences=True,\n",
        "                                    kernel_initializer=tf.initializers.GlorotUniform(seed=RANDOM_SEED)),\n",
        "                                    name='bilstm_layer_2'),\n",
        "\n",
        "        # Bi-LSTM Layer 3\n",
        "        tf.keras.layers.Bidirectional(tf.keras.layers.LSTM(64,\n",
        "                                    return_sequences=False,\n",
        "                                    kernel_initializer=tf.initializers.GlorotUniform(seed=RANDOM_SEED)),\n",
        "                                    name='bilstm_layer_3'),\n",
        "\n",
        "        # Dropout Layer 1\n",
        "        tf.keras.layers.Dropout(0.2),\n",
        "\n",
        "        # Fully-connected Layer 1\n",
        "        tf.keras.layers.Dense(64,\n",
        "                              activation='relu',\n",
        "                              kernel_initializer=tf.initializers.GlorotUniform(seed=RANDOM_SEED),\n",
        "                              name='fl_layer_1'),\n",
        "\n",
        "        tf.keras.layers.Dropout(0.3),\n",
        "\n",
        "        # Fully-connected Layer 2\n",
        "        tf.keras.layers.Dense(32,\n",
        "                              activation='relu',\n",
        "                              kernel_initializer=tf.initializers.GlorotUniform(seed=RANDOM_SEED),\n",
        "                              name='fl_layer_2'),\n",
        "\n",
        "        # Dropout Layer 2\n",
        "        tf.keras.layers.Dropout(0.3),\n",
        "\n",
        "        # Output Layer\n",
        "        tf.keras.layers.Dense(n_classes,\n",
        "                              activation='sigmoid',\n",
        "                              kernel_initializer=tf.initializers.GlorotUniform(seed=RANDOM_SEED),\n",
        "                              name='output_layer')\n",
        "    ],\n",
        "    name='bilstm_model')\n",
        "\n",
        "    return model"
      ]
    },
    {
      "cell_type": "code",
      "execution_count": 20,
      "metadata": {
        "colab": {
          "base_uri": "https://localhost:8080/"
        },
        "id": "TsB5ytndbVgt",
        "outputId": "c09ba1f2-c232-4033-c4ce-0839295e5b38"
      },
      "outputs": [
        {
          "name": "stdout",
          "output_type": "stream",
          "text": [
            "Model: \"bilstm_model\"\n",
            "_________________________________________________________________\n",
            " Layer (type)                Output Shape              Param #   \n",
            "=================================================================\n",
            " text_vectorization (TextVe  (None, 128)               0         \n",
            " ctorization)                                                    \n",
            "                                                                 \n",
            " embedding_layer (Embedding  (None, 128, 64)           320064    \n",
            " )                                                               \n",
            "                                                                 \n",
            " bilstm_layer_1 (Bidirectio  (None, 128, 128)          66048     \n",
            " nal)                                                            \n",
            "                                                                 \n",
            " bilstm_layer_2 (Bidirectio  (None, 128, 128)          98816     \n",
            " nal)                                                            \n",
            "                                                                 \n",
            " bilstm_layer_3 (Bidirectio  (None, 128)               98816     \n",
            " nal)                                                            \n",
            "                                                                 \n",
            " dropout (Dropout)           (None, 128)               0         \n",
            "                                                                 \n",
            " fl_layer_1 (Dense)          (None, 64)                8256      \n",
            "                                                                 \n",
            " dropout_1 (Dropout)         (None, 64)                0         \n",
            "                                                                 \n",
            " fl_layer_2 (Dense)          (None, 32)                2080      \n",
            "                                                                 \n",
            " dropout_2 (Dropout)         (None, 32)                0         \n",
            "                                                                 \n",
            " output_layer (Dense)        (None, 11)                363       \n",
            "                                                                 \n",
            "=================================================================\n",
            "Total params: 594443 (2.27 MB)\n",
            "Trainable params: 594443 (2.27 MB)\n",
            "Non-trainable params: 0 (0.00 Byte)\n",
            "_________________________________________________________________\n"
          ]
        }
      ],
      "source": [
        "model = build_model(max_features=MAX_FEATURES,\n",
        "                    max_seq_len=MAX_SEQ_LEN,\n",
        "                    embedding_dims=EMBEDDING_DIMS,\n",
        "                    n_classes=n_classes)\n",
        "model.summary()"
      ]
    },
    {
      "cell_type": "markdown",
      "metadata": {
        "id": "YLf9DMbmbX9M"
      },
      "source": [
        "## **4. Model configuration**"
      ]
    },
    {
      "cell_type": "code",
      "execution_count": 21,
      "metadata": {
        "id": "RVY1Eo7wxmbG"
      },
      "outputs": [],
      "source": [
        "# Declare hyperparameters\n",
        "EPOCHS = 10\n",
        "\n",
        "step = tf.Variable(0, trainable=False)\n",
        "schedule = tf.optimizers.schedules.PiecewiseConstantDecay(\n",
        "    [10000, 15000], [1e-1, 1e-2, 1e-3])\n",
        "\n",
        "lr = 1e-2 * schedule(step)\n",
        "wd = lambda: 1e-5 * schedule(step)"
      ]
    },
    {
      "cell_type": "code",
      "execution_count": 22,
      "metadata": {
        "id": "cR868LBvxoZY"
      },
      "outputs": [],
      "source": [
        "# Model compile\n",
        "model.compile(\n",
        "    optimizer=tfa.optimizers.AdamW(weight_decay=wd,\n",
        "                                   learning_rate=lr), # Use optimizer AdamW\n",
        "    loss=tf.keras.losses.BinaryCrossentropy(), # Use the BinaryCrossEntropy loss function\n",
        "    metrics=['accuracy'] # Use Accuracy metric\n",
        ")"
      ]
    },
    {
      "cell_type": "code",
      "execution_count": 23,
      "metadata": {
        "colab": {
          "base_uri": "https://localhost:8080/"
        },
        "id": "oVDQfbe7pqwK",
        "outputId": "bfb9e7a5-603a-4c39-eac1-3c2147450a87"
      },
      "outputs": [
        {
          "name": "stdout",
          "output_type": "stream",
          "text": [
            "Model: \"bilstm_model\"\n",
            "_________________________________________________________________\n",
            " Layer (type)                Output Shape              Param #   \n",
            "=================================================================\n",
            " text_vectorization (TextVe  (None, 128)               0         \n",
            " ctorization)                                                    \n",
            "                                                                 \n",
            " embedding_layer (Embedding  (None, 128, 64)           320064    \n",
            " )                                                               \n",
            "                                                                 \n",
            " bilstm_layer_1 (Bidirectio  (None, 128, 128)          66048     \n",
            " nal)                                                            \n",
            "                                                                 \n",
            " bilstm_layer_2 (Bidirectio  (None, 128, 128)          98816     \n",
            " nal)                                                            \n",
            "                                                                 \n",
            " bilstm_layer_3 (Bidirectio  (None, 128)               98816     \n",
            " nal)                                                            \n",
            "                                                                 \n",
            " dropout (Dropout)           (None, 128)               0         \n",
            "                                                                 \n",
            " fl_layer_1 (Dense)          (None, 64)                8256      \n",
            "                                                                 \n",
            " dropout_1 (Dropout)         (None, 64)                0         \n",
            "                                                                 \n",
            " fl_layer_2 (Dense)          (None, 32)                2080      \n",
            "                                                                 \n",
            " dropout_2 (Dropout)         (None, 32)                0         \n",
            "                                                                 \n",
            " output_layer (Dense)        (None, 11)                363       \n",
            "                                                                 \n",
            "=================================================================\n",
            "Total params: 594443 (2.27 MB)\n",
            "Trainable params: 594443 (2.27 MB)\n",
            "Non-trainable params: 0 (0.00 Byte)\n",
            "_________________________________________________________________\n"
          ]
        }
      ],
      "source": [
        "model.summary()"
      ]
    },
    {
      "cell_type": "markdown",
      "metadata": {
        "id": "3Kb90Safbc0I"
      },
      "source": [
        "## **5. Training**"
      ]
    },
    {
      "cell_type": "code",
      "execution_count": 24,
      "metadata": {
        "colab": {
          "base_uri": "https://localhost:8080/"
        },
        "id": "-StpXxgExtFo",
        "outputId": "93d0a6e6-c76c-4d19-e185-b7d0db9f1ded"
      },
      "outputs": [
        {
          "name": "stdout",
          "output_type": "stream",
          "text": [
            "Epoch 1/10\n",
            "54/54 [==============================] - 40s 204ms/step - loss: 0.5971 - accuracy: 0.0698 - val_loss: 0.5183 - val_accuracy: 0.0621\n",
            "Epoch 2/10\n",
            "54/54 [==============================] - 2s 45ms/step - loss: 0.5088 - accuracy: 0.1901 - val_loss: 0.4691 - val_accuracy: 0.2720\n",
            "Epoch 3/10\n",
            "54/54 [==============================] - 4s 66ms/step - loss: 0.4447 - accuracy: 0.3377 - val_loss: 0.4046 - val_accuracy: 0.3318\n",
            "Epoch 4/10\n",
            "54/54 [==============================] - 3s 49ms/step - loss: 0.3905 - accuracy: 0.3748 - val_loss: 0.3955 - val_accuracy: 0.4797\n",
            "Epoch 5/10\n",
            "54/54 [==============================] - 2s 38ms/step - loss: 0.3605 - accuracy: 0.4073 - val_loss: 0.4034 - val_accuracy: 0.4989\n",
            "Epoch 6/10\n",
            "54/54 [==============================] - 2s 39ms/step - loss: 0.3425 - accuracy: 0.4203 - val_loss: 0.4013 - val_accuracy: 0.4966\n",
            "Epoch 7/10\n",
            "54/54 [==============================] - 4s 67ms/step - loss: 0.3274 - accuracy: 0.4677 - val_loss: 0.4005 - val_accuracy: 0.5045\n",
            "Epoch 8/10\n",
            "54/54 [==============================] - 2s 38ms/step - loss: 0.3129 - accuracy: 0.4860 - val_loss: 0.4098 - val_accuracy: 0.4752\n",
            "Epoch 9/10\n",
            "54/54 [==============================] - 2s 37ms/step - loss: 0.3009 - accuracy: 0.5050 - val_loss: 0.4344 - val_accuracy: 0.4740\n",
            "Epoch 10/10\n",
            "54/54 [==============================] - 2s 38ms/step - loss: 0.2979 - accuracy: 0.5285 - val_loss: 0.4222 - val_accuracy: 0.4797\n"
          ]
        }
      ],
      "source": [
        "history = model.fit(\n",
        "    train_ds,\n",
        "    validation_data=val_ds,\n",
        "    epochs=EPOCHS\n",
        ")"
      ]
    },
    {
      "cell_type": "markdown",
      "metadata": {
        "id": "UgNNy8JUbfBj"
      },
      "source": [
        "## **6. Evaluation and visualization**"
      ]
    },
    {
      "cell_type": "code",
      "execution_count": 31,
      "metadata": {
        "colab": {
          "base_uri": "https://localhost:8080/"
        },
        "id": "b3TlfKI5rc7B",
        "outputId": "6c05e09d-bca2-44d6-d259-26156ec2d02b"
      },
      "outputs": [
        {
          "name": "stdout",
          "output_type": "stream",
          "text": [
            "26/26 [==============================] - 0s 18ms/step - loss: 0.4219 - accuracy: 0.5026\n"
          ]
        }
      ],
      "source": [
        "test_evaluation = model.evaluate(test_ds)"
      ]
    },
    {
      "cell_type": "code",
      "execution_count": 32,
      "metadata": {
        "colab": {
          "base_uri": "https://localhost:8080/",
          "height": 872
        },
        "id": "vmMe97kpcS71",
        "outputId": "162f0cfb-1a62-43cd-fa08-1e6b4dc82836"
      },
      "outputs": [
        {
          "data": {
            "image/png": "[encoded data removed]",
            "text/plain": [
              "<Figure size 1000x1000 with 4 Axes>"
            ]
          },
          "metadata": {},
          "output_type": "display_data"
        }
      ],
      "source": [
        "train_loss, train_acc = history.history['loss'], history.history['accuracy']\n",
        "val_loss, val_acc = history.history['val_loss'], history.history['val_accuracy']\n",
        "\n",
        "plt.figure(figsize=(10, 10))\n",
        "\n",
        "plt.subplot(2, 2, 1)\n",
        "plt.xlabel('Epochs')\n",
        "plt.ylabel('Loss')\n",
        "plt.title('Training loss')\n",
        "plt.plot(train_loss, color='red')\n",
        "\n",
        "plt.subplot(2, 2, 2)\n",
        "plt.xlabel('Epochs')\n",
        "plt.ylabel('Accuracy')\n",
        "plt.title('Training accuracy')\n",
        "plt.plot(train_acc, color='orange')\n",
        "\n",
        "plt.subplot(2, 2, 3)\n",
        "plt.xlabel('Epochs')\n",
        "plt.ylabel('Loss')\n",
        "plt.title('Validation loss')\n",
        "plt.plot(val_loss, color='red')\n",
        "\n",
        "plt.subplot(2, 2, 4)\n",
        "plt.xlabel('Epochs')\n",
        "plt.ylabel('Accuracy')\n",
        "plt.title('Validation accuracy')\n",
        "plt.plot(val_acc, color='orange')\n",
        "\n",
        "plt.show()"
      ]
    },
    {
      "cell_type": "markdown",
      "metadata": {
        "id": "8pSQL9BO0sry"
      },
      "source": [
        "## **7. Inference**"
      ]
    },
    {
      "cell_type": "code",
      "execution_count": 33,
      "metadata": {
        "colab": {
          "base_uri": "https://localhost:8080/"
        },
        "id": "djBwR4Pd0vTu",
        "outputId": "d46f2daf-4e7c-4772-d61d-814fef05d7b2"
      },
      "outputs": [
        {
          "name": "stdout",
          "output_type": "stream",
          "text": [
            "Text: b'adnan__786__ asyounotwish dont worri indian armi way dispatch terrorist hell'\n",
            "Label: ['anger' 'anticipation' 'optimism' 'trust']\n",
            "Predicted Label(s): (['anger' 'disgust' 'fear' 'pessimism' 'sadness'])\n",
            " \n",
            "Text: b'academi scienc eschew normal sober tone scientif paper call massiv loss wildlif biolog annihil'\n",
            "Label: ['disgust']\n",
            "Predicted Label(s): (['joy'])\n",
            " \n",
            "Text: b'blew opportun __ mad'\n",
            "Label: ['anger' 'disgust' 'sadness']\n",
            "Predicted Label(s): (['anticipation' 'joy' 'optimism' 'sadness'])\n",
            " \n",
            "Text: b'time 2 week 30'\n",
            "Label: ['joy' 'sadness']\n",
            "Predicted Label(s): (['sadness'])\n",
            " \n",
            "Text: b'deppress real partner w depress peopl truli dont understand depth affect us add anxieti ampmak wors'\n",
            "Label: ['fear' 'sadness']\n",
            "Predicted Label(s): (['fear' 'sadness'])\n",
            " \n",
            "Text: b'politicoeurop interest choic word confirm govern fund terror bit open door still'\n",
            "Label: ['anger' 'disgust' 'fear' 'pessimism']\n",
            "Predicted Label(s): ([])\n",
            " \n",
            "Text: b'ananavarro cnn sure'\n",
            "Label: ['joy' 'optimism']\n",
            "Predicted Label(s): (['joy'])\n",
            " \n",
            "Text: b'distanc stretch friend impos seriou lovey notseri'\n",
            "Label: ['love']\n",
            "Predicted Label(s): (['joy' 'love' 'optimism'])\n",
            " \n",
            "Text: b'happi confid kindnn kissableslovesmshopmagnalloutdenimfor kissmarc'\n",
            "Label: ['joy' 'optimism']\n",
            "Predicted Label(s): (['joy' 'optimism'])\n",
            " \n",
            "Text: b'visit hospit care trigger trauma accid 20yr ago imag dead brother feel symptom depress'\n",
            "Label: ['sadness']\n",
            "Predicted Label(s): (['fear' 'sadness'])\n",
            " \n"
          ]
        }
      ],
      "source": [
        "threshold = 0.4\n",
        "\n",
        "for text_batch, label_batch in test_ds.take(1):\n",
        "    for i in range(10):\n",
        "        input_text = text_batch[i].numpy()\n",
        "        label = label_batch[i].numpy()\n",
        "        pred = model.predict(np.expand_dims(input_text, 0), verbose=0)[0]\n",
        "        threshold_pred = np.where(pred > threshold, 1, 0)\n",
        "        print(f\"Text: {input_text}\")\n",
        "        print(f\"Label: {inverse_label(class_lst, label)}\")\n",
        "        print(f\"Predicted Label(s): ({inverse_label(class_lst, threshold_pred)})\")\n",
        "        print(\" \")"
      ]
    }
  ],
  "metadata": {
    "accelerator": "GPU",
    "colab": {
      "gpuClass": "premium",
      "provenance": []
    },
    "gpuClass": "premium",
    "kernelspec": {
      "display_name": "Python 3 (ipykernel)",
      "language": "python",
      "name": "python3"
    },
    "language_info": {
      "codemirror_mode": {
        "name": "ipython",
        "version": 3
      },
      "file_extension": ".py",
      "mimetype": "text/x-python",
      "name": "python",
      "nbconvert_exporter": "python",
      "pygments_lexer": "ipython3",
      "version": "3.10.5"
    }
  },
  "nbformat": 4,
  "nbformat_minor": 0
}
